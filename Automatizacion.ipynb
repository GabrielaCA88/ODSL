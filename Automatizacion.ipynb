{
 "cells": [
  {
   "cell_type": "code",
   "execution_count": 1,
   "metadata": {},
   "outputs": [],
   "source": [
    "##!pip install pdfminer"
   ]
  },
  {
   "cell_type": "code",
   "execution_count": 2,
   "metadata": {},
   "outputs": [],
   "source": [
    "import pandas as pd\n",
    "import re\n",
    "from datetime import datetime\n",
    "import io\n",
    "from pdfminer.pdfparser import PDFParser\n",
    "from pdfminer.pdfdocument import PDFDocument\n",
    "from pdfminer.converter import TextConverter\n",
    "from pdfminer.pdfinterp import PDFPageInterpreter\n",
    "from pdfminer.pdfinterp import PDFResourceManager\n",
    "from pdfminer.pdfpage import PDFPage"
   ]
  },
  {
   "cell_type": "code",
   "execution_count": 3,
   "metadata": {},
   "outputs": [],
   "source": [
    "#ingresar el nombre del documento a analizar\n",
    "documento = \"OVD 3.pdf\""
   ]
  },
  {
   "cell_type": "code",
   "execution_count": 4,
   "metadata": {},
   "outputs": [
    {
     "name": "stdout",
     "output_type": "stream",
     "text": [
      "[{'Author': b'pc', 'CreationDate': b\"D:20200901203948-03'00'\", 'ModDate': b\"D:20200901203948-03'00'\", 'Producer': b'Microsoft: Print To PDF', 'Title': b'Microsoft Word - Legajo Digital OVD 1'}]\n"
     ]
    }
   ],
   "source": [
    "#obtener metadata del documento, ver si sirve\n",
    "fp = open(documento, 'rb')\n",
    "parser = PDFParser(fp)\n",
    "doc = PDFDocument(parser)\n",
    "\n",
    "print(doc.info)  "
   ]
  },
  {
   "cell_type": "code",
   "execution_count": 5,
   "metadata": {},
   "outputs": [],
   "source": [
    "#funcion para convertir el pdf a texto plano\n",
    "def extract_text_from_pdf(pdf_path):\n",
    "    resource_manager = PDFResourceManager()\n",
    "    fake_file_handle = io.StringIO()\n",
    "    converter = TextConverter(resource_manager, fake_file_handle)\n",
    "    page_interpreter = PDFPageInterpreter(resource_manager, converter)\n",
    "    \n",
    "    with open(pdf_path, 'rb') as fh:\n",
    "        for page in PDFPage.get_pages(fh, \n",
    "                                      caching=True,\n",
    "                                      check_extractable=True):\n",
    "            page_interpreter.process_page(page)\n",
    "            \n",
    "        text = fake_file_handle.getvalue()\n",
    "    \n",
    "    # close open handles\n",
    "    converter.close()\n",
    "    fake_file_handle.close()\n",
    "    \n",
    "    if text:\n",
    "        return text"
   ]
  },
  {
   "cell_type": "code",
   "execution_count": 6,
   "metadata": {},
   "outputs": [],
   "source": [
    "# GENERO_ACUSADO/A"
   ]
  },
  {
   "cell_type": "code",
   "execution_count": 7,
   "metadata": {},
   "outputs": [],
   "source": [
    "#creamos la variable data y le cargamos el texto extraido del pdf\n",
    "data = extract_text_from_pdf(\"OVD 4.pdf\")"
   ]
  },
  {
   "cell_type": "code",
   "execution_count": 8,
   "metadata": {},
   "outputs": [
    {
     "name": "stdout",
     "output_type": "stream",
     "text": [
      "   corte suprema de justicia de la nación  oficina de violencia doméstica // la ciudad de buenos air\n"
     ]
    }
   ],
   "source": [
    "#pasamos el texto a minusculas, y cambiamos los saltos de lineas por espacios\n",
    "data = data.lower()\n",
    "data = data.replace('  ', ' ')\n",
    "data = data.replace('\\'', '\"').replace('´', '\"').replace('‘', '\"').replace('’', '\"')\n",
    "print(data[0:100])"
   ]
  },
  {
   "cell_type": "code",
   "execution_count": 9,
   "metadata": {},
   "outputs": [],
   "source": [
    "import unicodedata\n",
    "\n",
    "def strip_accents(text):\n",
    "\n",
    "    try:\n",
    "        text = unicode(text, 'utf-8')\n",
    "    except NameError: # unicode is a default on python 3 \n",
    "        pass\n",
    "\n",
    "    text = unicodedata.normalize('NFD', text)\\\n",
    "           .encode('ascii', 'ignore')\\\n",
    "           .decode(\"utf-8\")\n",
    "\n",
    "    return str(text)\n",
    "\n",
    "data = strip_accents(data)"
   ]
  },
  {
   "cell_type": "code",
   "execution_count": 10,
   "metadata": {},
   "outputs": [
    {
     "data": {
      "text/plain": [
       "('4407/2020',)"
      ]
     },
     "execution_count": 10,
     "metadata": {},
     "output_type": "execute_result"
    }
   ],
   "source": [
    "#como regex es greedy tenemos que aclarar que sea hasta la primera coincidencia con el signo de pregunta.\n",
    "\n",
    "nrolegajo = re.search(r'informe interdisciplinario de.*?legajo.*?(\\d+/\\d+)', data)\n",
    "\n",
    "if nrolegajo == None:\n",
    "    nrolegajo = \"no_encontrado\"\n",
    "else:\n",
    "    nrolegajo = nrolegajo.groups(1)\n",
    "nrolegajo"
   ]
  },
  {
   "cell_type": "raw",
   "metadata": {},
   "source": [
    "# Genero acusado"
   ]
  },
  {
   "cell_type": "code",
   "execution_count": 11,
   "metadata": {},
   "outputs": [
    {
     "data": {
      "text/plain": [
       "'su ex pareja no conviviente el sr. pedro vega, d.n.i. n 44.444.444, nacido el 21 de julio de 1990, de 30 anos de edad,'"
      ]
     },
     "execution_count": 11,
     "metadata": {},
     "output_type": "execute_result"
    }
   ],
   "source": [
    "genero_denunciado = re.search(r' relacion a.(.*?) de nacionalidad', data).group(1)\n",
    "genero_denunciado"
   ]
  },
  {
   "cell_type": "code",
   "execution_count": 12,
   "metadata": {},
   "outputs": [
    {
     "name": "stdout",
     "output_type": "stream",
     "text": [
      "masculino\n"
     ]
    }
   ],
   "source": [
    "findhObj = re.findall ( r'(sr.|sra.)', genero_denunciado)\n",
    "\n",
    "if 'sr.' in findhObj:\n",
    "    print (\"masculino\")\n",
    "elif 'sra.' in findhObj:\n",
    "    print (\"femenino\")\n",
    "else:\n",
    "    print (\"No match!!\")"
   ]
  },
  {
   "cell_type": "raw",
   "metadata": {},
   "source": [
    "# NACIONALIDAD_ACUSADO/A"
   ]
  },
  {
   "cell_type": "code",
   "execution_count": 13,
   "metadata": {},
   "outputs": [],
   "source": [
    "info_denunciado= re.search(r' relacion a.(.*?) ingresos', data).group(1)"
   ]
  },
  {
   "cell_type": "code",
   "execution_count": 14,
   "metadata": {},
   "outputs": [
    {
     "data": {
      "text/plain": [
       "('argentina',)"
      ]
     },
     "execution_count": 14,
     "metadata": {},
     "output_type": "execute_result"
    }
   ],
   "source": [
    "nacionalidad_denunciado = re.search(r' de nacionalidad (.*?),', info_denunciado).groups(1)\n",
    "nacionalidad_denunciado"
   ]
  },
  {
   "cell_type": "code",
   "execution_count": 15,
   "metadata": {},
   "outputs": [
    {
     "data": {
      "text/plain": [
       "('30',)"
      ]
     },
     "execution_count": 15,
     "metadata": {},
     "output_type": "execute_result"
    }
   ],
   "source": [
    "edaddenunciado = re.search(r', de (.*?) anos de edad', info_denunciado).groups(1)\n",
    "edaddenunciado"
   ]
  },
  {
   "cell_type": "code",
   "execution_count": 16,
   "metadata": {},
   "outputs": [
    {
     "data": {
      "text/plain": [
       "('estudios secundarios incompletos',)"
      ]
     },
     "execution_count": 16,
     "metadata": {},
     "output_type": "execute_result"
    }
   ],
   "source": [
    "instruccion_denunciado = re.search(r'(estudios .*?etos)', info_denunciado).groups(1)\n",
    "instruccion_denunciado"
   ]
  },
  {
   "cell_type": "code",
   "execution_count": 17,
   "metadata": {},
   "outputs": [
    {
     "data": {
      "text/plain": [
       "'su ex pareja no conviviente el sr. pedro vega, d.n.i. n 44.444.444, nacido el 21 de julio de 1990, de 30 anos de edad, de nacionalidad argentina, de estado civil soltero, domiciliado en el mismo barrio que la senora, cuyo telefono celular refiere desconocer, con nivel de estudios secundarios incompletos, desconociendo su condicion laboral e'"
      ]
     },
     "execution_count": 17,
     "metadata": {},
     "output_type": "execute_result"
    }
   ],
   "source": [
    "info_denunciado"
   ]
  },
  {
   "cell_type": "code",
   "execution_count": 18,
   "metadata": {},
   "outputs": [
    {
     "data": {
      "text/plain": [
       "('que la senora',)"
      ]
     },
     "execution_count": 18,
     "metadata": {},
     "output_type": "execute_result"
    }
   ],
   "source": [
    "domicilio= re.search(r' barrio (.*?),', info_denunciado).groups(1)\n",
    "domicilio"
   ]
  },
  {
   "cell_type": "code",
   "execution_count": 19,
   "metadata": {},
   "outputs": [
    {
     "ename": "SyntaxError",
     "evalue": "unexpected EOF while parsing (<ipython-input-19-f4dfb5033a33>, line 4)",
     "output_type": "error",
     "traceback": [
      "\u001b[1;36m  File \u001b[1;32m\"<ipython-input-19-f4dfb5033a33>\"\u001b[1;36m, line \u001b[1;32m4\u001b[0m\n\u001b[1;33m    print (##variable domicilio denunciante)\u001b[0m\n\u001b[1;37m                                            ^\u001b[0m\n\u001b[1;31mSyntaxError\u001b[0m\u001b[1;31m:\u001b[0m unexpected EOF while parsing\n"
     ]
    }
   ],
   "source": [
    "findhObj = re.findall ( r'(que la senora|que la dicente)', domicilio)\n",
    "\n",
    "if 'que la senora' in findhObj:\n",
    "    print (##variable domicilio denunciante)"
   ]
  }
 ],
 "metadata": {
  "kernelspec": {
   "display_name": "Python 3",
   "language": "python",
   "name": "python3"
  },
  "language_info": {
   "codemirror_mode": {
    "name": "ipython",
    "version": 3
   },
   "file_extension": ".py",
   "mimetype": "text/x-python",
   "name": "python",
   "nbconvert_exporter": "python",
   "pygments_lexer": "ipython3",
   "version": "3.8.1"
  }
 },
 "nbformat": 4,
 "nbformat_minor": 4
}
